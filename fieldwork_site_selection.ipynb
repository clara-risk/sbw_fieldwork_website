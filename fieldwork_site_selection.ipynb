{
  "nbformat": 4,
  "nbformat_minor": 0,
  "metadata": {
    "colab": {
      "name": "fieldwork_site_selection.ipynb",
      "provenance": [],
      "machine_shape": "hm"
    },
    "kernelspec": {
      "name": "python3",
      "display_name": "Python 3"
    },
    "language_info": {
      "name": "python"
    }
  },
  "cells": [
    {
      "cell_type": "code",
      "execution_count": 1,
      "metadata": {
        "id": "CRd3krshDBzB"
      },
      "outputs": [],
      "source": [
        "#Install the packages we need, including Google OR-Tools \n",
        "%%capture\n",
        "!pip install ortools\n",
        "!pip install pandas\n",
        "!pip install numpy\n",
        "!pip install matplotlib\n",
        "\n",
        "!apt install gdal-bin python-gdal python3-gdal \n",
        "%pip install pandas fiona shapely pyproj\n",
        "!apt install python3-rtree \n",
        "!pip install geopandas==0.10.0\n",
        "!pip install descartes\n",
        "!pip install scipy \n",
        "!pip install statsmodels\n",
        "!pip install gdal\n",
        "!pip install scikit-learn\n",
        "!pip install statsmodels\n",
        "!pip install networkx\n",
        "!pip install osmnx"
      ]
    },
    {
      "cell_type": "code",
      "source": [
        "#Here we are importing the packages we need. \n",
        "import geopandas as gpd\n",
        "import pandas as pd \n",
        "from geopandas.tools import sjoin\n",
        "from shapely.geometry import LineString\n",
        "from shapely.geometry import Point\n",
        "from shapely.geometry import Polygon\n",
        "from shapely.geometry import shape\n",
        "from descartes import PolygonPatch\n",
        "import time\n",
        "import math\n",
        "import scipy.stats as stats\n",
        "import numpy as np\n",
        "import os, sys\n",
        "from pyproj import CRS, Transformer\n",
        "import fiona\n",
        "\n",
        "import statsmodels.api as sm\n",
        "import statsmodels.formula.api as smf\n",
        "\n",
        "import matplotlib.pyplot as plt\n",
        "import matplotlib as mpl\n",
        "from math import floor\n",
        "\n",
        "from shapely.ops import unary_union\n",
        "\n",
        "import warnings\n",
        "warnings.filterwarnings('ignore')\n",
        "\n",
        "from osgeo import ogr, gdal,osr\n",
        "\n",
        "from ortools.linear_solver import pywraplp\n",
        "import string\n",
        "\n",
        "import networkx as nx\n",
        "import osmnx as ox"
      ],
      "metadata": {
        "colab": {
          "base_uri": "https://localhost:8080/"
        },
        "id": "WzQQrISvDeON",
        "outputId": "f0fec2f1-450d-4b5e-8a2e-19cd0cbfa22d"
      },
      "execution_count": 2,
      "outputs": [
        {
          "output_type": "stream",
          "name": "stderr",
          "text": [
            "/usr/local/lib/python3.7/dist-packages/statsmodels/tools/_testing.py:19: FutureWarning: pandas.util.testing is deprecated. Use the functions in the public API at pandas.testing instead.\n",
            "  import pandas.util.testing as tm\n"
          ]
        }
      ]
    },
    {
      "cell_type": "code",
      "source": [
        "from google.colab import drive\n",
        "drive.mount('/content/drive')\n",
        "\n",
        "#Navigate to folder where data is stored in the drive. \n",
        "%cd /content/drive/MyDrive/jameslab/\n",
        "\n",
        "dirname = '/content/drive/MyDrive/jameslab/'"
      ],
      "metadata": {
        "colab": {
          "base_uri": "https://localhost:8080/"
        },
        "id": "bM0YWyp7J5IT",
        "outputId": "8f5a291c-b60d-491d-eece-24bf893dfce9"
      },
      "execution_count": 3,
      "outputs": [
        {
          "output_type": "stream",
          "name": "stdout",
          "text": [
            "Mounted at /content/drive\n",
            "/content/drive/MyDrive/jameslab\n"
          ]
        }
      ]
    },
    {
      "cell_type": "code",
      "source": [
        "def get_potential_sites(gdf,spacing): \n",
        "\n",
        "    bounds = gdf.bounds\n",
        "    xmax = bounds['maxx']\n",
        "    xmin= bounds['minx']\n",
        "    ymax = bounds['maxy']\n",
        "    ymin = bounds['miny']\n",
        "\n",
        "    num_col = int((xmax - xmin) / spacing) \n",
        "    num_row = int((ymax - ymin) / spacing)\n",
        "\n",
        "    Yi = np.linspace(ymin,ymax,num_row+1)\n",
        "    Xi = np.linspace(xmin,xmax,num_col+1)\n",
        "    Xi,Yi = np.meshgrid(Xi,Yi)\n",
        "\n",
        "    points = [Point(x) for x in zip(Xi.flatten(),Yi.flatten())]\n",
        "    points = gpd.GeoDataFrame(geometry=gpd.GeoSeries(points),crs='esri:102001')\\\n",
        "    .to_crs('EPSG:4326')\n",
        "\n",
        "    points['lat'] = list(points['geometry'].y)\n",
        "    points['lon'] = list(points['geometry'].x)\n",
        "\n",
        "\n",
        "    return points"
      ],
      "metadata": {
        "id": "ku6zWl2hKUI_"
      },
      "execution_count": 4,
      "outputs": []
    },
    {
      "cell_type": "code",
      "source": [
        "# Create a regular grid of points in the area of interest, which is the bounding\n",
        "#box of the 2020 (maximum) defoliation extent \n",
        "\n",
        "sa = gpd.read_file('study_area/area_of_interest.shp').to_crs('esri:102001')\n",
        "sites_df = get_potential_sites(sa,500)"
      ],
      "metadata": {
        "id": "eNsEJvbrDqNK"
      },
      "execution_count": 28,
      "outputs": []
    },
    {
      "cell_type": "code",
      "source": [
        "def join_shapefile(gdf,aerial_survey,col_name,fire=False,harvest=False,road=False): \n",
        "    if fire == False and harvest == False and road == False: \n",
        "        points_in_shp = sjoin(gdf, aerial_survey, how='left')\n",
        "        points_in_shp['FOREST_DAM'] = points_in_shp['FOREST_DAM'].fillna(0)\n",
        "        points_in_shp.loc[points_in_shp['FOREST_DAM'] != 0, 'FOREST_DAM'] = 1\n",
        "        points_in_shp[col_name] = points_in_shp['FOREST_DAM']\n",
        "\n",
        "    elif harvest == True and fire == False and road == False: \n",
        "        points_in_shp = sjoin(gdf, aerial_survey, how='left')\n",
        "        points_in_shp['HarvestCon'] = points_in_shp['HarvestCon'].fillna(0)\n",
        "        points_in_shp.loc[points_in_shp['HarvestCon'] != 0, 'HarvestCon'] = 1\n",
        "        points_in_shp[col_name] = points_in_shp['HarvestCon']     \n",
        "\n",
        "    elif road == True and fire == False and harvest == False: \n",
        "        points_in_shp = sjoin(gdf, aerial_survey, how='left')\n",
        "        points_in_shp['featurecla'] = points_in_shp['featurecla'].fillna(0)\n",
        "        points_in_shp.loc[points_in_shp['featurecla'] != 0, 'featurecla'] = 1\n",
        "        points_in_shp[col_name] = points_in_shp['featurecla'] \n",
        "\n",
        "    else: \n",
        "        points_in_shp = sjoin(gdf, aerial_survey, how='left')\n",
        "        points_in_shp['FIRE_ID'] = points_in_shp['FIRE_ID'].fillna(0)\n",
        "        points_in_shp.loc[points_in_shp['FIRE_ID'] != 0, 'FIRE_ID'] = 1\n",
        "        points_in_shp[col_name] = points_in_shp['FIRE_ID']      \n",
        "\n",
        "    array = np.array(points_in_shp[col_name])\n",
        "    Xi = np.array(points_in_shp['lon'])\n",
        "    Yi = np.array(points_in_shp['lat'])\n",
        "\n",
        "    new_lon = []\n",
        "    new_lat = []\n",
        "    new_val = [] \n",
        "    for val,lon,lat in zip(array.flatten(),Xi.flatten(),Yi.flatten()):\n",
        "        new_lon.append(lon)\n",
        "        new_lat.append(lat)\n",
        "        new_val.append(val)    \n",
        "\n",
        "    points = [Point(x) for x in zip(Xi.flatten(),Yi.flatten())]\n",
        "\n",
        "    #new_data = gpd.GeoDataFrame(geometry=gpd.GeoSeries(points),crs='EPSG:4326') \n",
        "    #new_data['lon'] = new_lon\n",
        "    #new_data['lat'] = new_lat\n",
        "    gdf[col_name] = new_val\n",
        "\n",
        "    return gdf"
      ],
      "metadata": {
        "id": "SUDnG-XqMB3e"
      },
      "execution_count": 59,
      "outputs": []
    },
    {
      "cell_type": "code",
      "source": [
        "fires = gpd.read_file('site_selection/fire_extract_2014_plus_correct.shp')\n",
        "fire_df = join_shapefile(sites_df,fires,'fire_detected',fire=True)\n",
        "print(fire_df[fire_df['fire_detected'] >= 1])"
      ],
      "metadata": {
        "colab": {
          "base_uri": "https://localhost:8080/"
        },
        "id": "1CHiumNLNuSL",
        "outputId": "26d6f490-7f98-409f-cc20-2ed466a384da"
      },
      "execution_count": 29,
      "outputs": [
        {
          "output_type": "stream",
          "name": "stdout",
          "text": [
            "                           geometry        lat        lon  fire_detected\n",
            "220245   POINT (-80.70997 45.84868)  45.848684 -80.709966              1\n",
            "220246   POINT (-80.70376 45.84766)  45.847657 -80.703764              1\n",
            "220247   POINT (-80.69756 45.84663)  45.846630 -80.697561              1\n",
            "221400   POINT (-80.70853 45.85312)  45.853118 -80.708528              1\n",
            "221401   POINT (-80.70233 45.85209)  45.852092 -80.702325              1\n",
            "...                             ...        ...        ...            ...\n",
            "1221655  POINT (-79.18732 49.63519)  49.635187 -79.187322              1\n",
            "1221656  POINT (-79.18062 49.63407)  49.634072 -79.180622              1\n",
            "1222811  POINT (-79.17891 49.63843)  49.638435 -79.178907              1\n",
            "1222812  POINT (-79.17221 49.63732)  49.637320 -79.172206              1\n",
            "1223967  POINT (-79.17049 49.64168)  49.641682 -79.170490              1\n",
            "\n",
            "[2018 rows x 4 columns]\n"
          ]
        }
      ]
    },
    {
      "cell_type": "code",
      "source": [
        "cumulative_activity7 = gpd.read_file('site_selection/cumulative_activity_7yrs.shp')\n",
        "ca7_df = join_shapefile(fire_df,cumulative_activity7,'ca7_detected',fire=False)\n",
        "\n",
        "cumulative_activity6 = gpd.read_file('site_selection/cumulative_activity_6yrs.shp')\n",
        "ca6_df = join_shapefile(ca7_df,cumulative_activity6,'ca6_detected',fire=False)\n",
        "\n",
        "cumulative_activity5 = gpd.read_file('site_selection/cumulative_activity_5yrs.shp')\n",
        "ca5_df = join_shapefile(ca6_df,cumulative_activity5,'ca5_detected',fire=False)\n",
        "\n",
        "cumulative_activity4 = gpd.read_file('site_selection/cumulative_activity_4yrs.shp')\n",
        "ca4_df = join_shapefile(ca5_df,cumulative_activity4,'ca4_detected',fire=False)\n",
        "\n",
        "cumulative_activity3 = gpd.read_file('site_selection/cumulative_activity_3yrs.shp')\n",
        "ca3_df = join_shapefile(ca4_df,cumulative_activity3,'ca3_detected',fire=False)\n",
        "\n",
        "cumulative_activity2 = gpd.read_file('site_selection/cumulative_activity_2yrs.shp')\n",
        "ca2_df = join_shapefile(ca3_df,cumulative_activity2,'ca2_detected',fire=False)\n",
        "\n",
        "cumulative_activity1 = gpd.read_file('site_selection/cumulative_activity_1yrs.shp')\n",
        "ca1_df = join_shapefile(ca2_df,cumulative_activity1,'ca1_detected',fire=False)"
      ],
      "metadata": {
        "id": "OTWuoN6TQE09"
      },
      "execution_count": 30,
      "outputs": []
    },
    {
      "cell_type": "code",
      "source": [
        "def get_species(gdf,interpolated_surface,transform,\\\n",
        "                    size,srcds,col_name):\n",
        "    '''This is a function to get the value inside the fire.\n",
        "    We will use to calculate the mean, median, max value for a fire.\n",
        "    \n",
        "    Parameters\n",
        "    ----------\n",
        "        gdf : GeoPandas DataFrame\n",
        "            gdf containing potential site points\n",
        "        interpolated_surface : ndarray\n",
        "            an array of values in the study area\n",
        "        transform : list \n",
        "            list describing GeoTransform of raster \n",
        "        size : list \n",
        "            pixel dimensions\n",
        "        srcds : GDAL object\n",
        "            read in raster\n",
        "            \n",
        "    Returns\n",
        "    ----------\n",
        "        gdf \n",
        "            GeoPandas DataFrame with species values as column\n",
        "    '''\n",
        "\n",
        "\n",
        "    #Get information about the raster - what is pixel size? What is the origin?\n",
        "    xOrigin = transform[0]\n",
        "    yOrigin = transform[3]\n",
        "    xMax = xOrigin + transform[1] * size[0]\n",
        "    yMin = yOrigin + transform[5] * size[1]\n",
        "    pixelWidth = transform[1]\n",
        "    pixelHeight = -transform[5]\n",
        "\n",
        "    value = []\n",
        "    lon = []\n",
        "    lat = [] \n",
        "    \n",
        "    # Iterate through the points within the fire \n",
        "    for idx,p in gdf.iterrows():\n",
        "        #mx , my is the lon lat \n",
        "        mx,my=np.array(p['geometry'].coords.xy[0])[0], np.array(p['geometry'].coords.xy[1])[0]\n",
        "        col = int((mx - xOrigin) / pixelWidth)\n",
        "        row = int((yOrigin - my ) / pixelHeight) \n",
        "        # Calculate offset on the array \n",
        "        if row < interpolated_surface.shape[0] and col < interpolated_surface.shape[1]: \n",
        "            # Index the array where the point is and send to list to store it \n",
        "            value.append(interpolated_surface[row][col])\n",
        "        else: \n",
        "            value.append(np.nan)\n",
        "\n",
        "        lon.append(mx)\n",
        "        lat.append(my)\n",
        "\n",
        "    #Add values in list to the dataframe \n",
        "    gdf[col_name] = value\n",
        "\n",
        "    return gdf"
      ],
      "metadata": {
        "id": "Qg_2eDIsTOii"
      },
      "execution_count": 31,
      "outputs": []
    },
    {
      "cell_type": "code",
      "source": [
        "# Open selected raster using gdal \n",
        "src_ds = gdal.Open('site_selection/beaudoin_age.tif')\n",
        "# Get band 1 \n",
        "rb1=src_ds.GetRasterBand(1)\n",
        "transform=src_ds.GetGeoTransform()\n",
        "cols = src_ds.RasterXSize\n",
        "rows = src_ds.RasterYSize\n",
        "\n",
        "# Convert raster to array \n",
        "data = rb1.ReadAsArray(0, 0, cols, rows)\n",
        "df_age = get_species(ca1_df,data,transform,(cols,rows,),src_ds,'age')\n",
        "print(df_age)\n",
        "df_age = df_age.dropna(how='any')"
      ],
      "metadata": {
        "colab": {
          "base_uri": "https://localhost:8080/"
        },
        "id": "oRmIHtdMowVy",
        "outputId": "38c36f83-97b6-4858-8f39-0126e67b5b57"
      },
      "execution_count": 32,
      "outputs": [
        {
          "output_type": "stream",
          "name": "stdout",
          "text": [
            "                           geometry        lat  ...  ca1_detected         age\n",
            "0        POINT (-85.90129 45.67832)  45.678324  ...             0   59.113335\n",
            "1        POINT (-85.89502 45.67764)  45.677642  ...             0  103.583336\n",
            "2        POINT (-85.88875 45.67696)  45.676960  ...             0   62.509998\n",
            "3        POINT (-85.88247 45.67628)  45.676278  ...             0   74.239998\n",
            "4        POINT (-85.87620 45.67559)  45.675594  ...             0   85.160004\n",
            "...                             ...        ...  ...           ...         ...\n",
            "1267030  POINT (-76.92042 49.41249)  49.412493  ...             0         NaN\n",
            "1267031  POINT (-76.91381 49.41123)  49.411231  ...             0         NaN\n",
            "1267032  POINT (-76.90721 49.40997)  49.409969  ...             0         NaN\n",
            "1267033  POINT (-76.90060 49.40871)  49.408706  ...             0         NaN\n",
            "1267034  POINT (-76.89400 49.40744)  49.407443  ...             0         NaN\n",
            "\n",
            "[1267035 rows x 12 columns]\n"
          ]
        }
      ]
    },
    {
      "cell_type": "code",
      "source": [
        "# Open selected raster using gdal \n",
        "src_ds = gdal.Open('site_selection/beaudoin_bf.tif')\n",
        "# Get band 1 \n",
        "rb1=src_ds.GetRasterBand(1)\n",
        "transform=src_ds.GetGeoTransform()\n",
        "cols = src_ds.RasterXSize\n",
        "rows = src_ds.RasterYSize\n",
        "\n",
        "# Convert raster to array \n",
        "data = rb1.ReadAsArray(0, 0, cols, rows)\n",
        "df_bf = get_species(df_age,data,transform,(cols,rows,),src_ds,'Bf')\n",
        "print(df_bf)\n",
        "#df_age = df_age.dropna(how='any')"
      ],
      "metadata": {
        "colab": {
          "base_uri": "https://localhost:8080/"
        },
        "id": "ymV_A88nIBR8",
        "outputId": "17334e4e-8729-4130-b06d-d566ed546df4"
      },
      "execution_count": 33,
      "outputs": [
        {
          "output_type": "stream",
          "name": "stdout",
          "text": [
            "                           geometry        lat  ...         age         Bf\n",
            "0        POINT (-85.90129 45.67832)  45.678324  ...   59.113335   1.303333\n",
            "1        POINT (-85.89502 45.67764)  45.677642  ...  103.583336   3.403333\n",
            "2        POINT (-85.88875 45.67696)  45.676960  ...   62.509998   4.666667\n",
            "3        POINT (-85.88247 45.67628)  45.676278  ...   74.239998   5.573333\n",
            "4        POINT (-85.87620 45.67559)  45.675594  ...   85.160004  16.143333\n",
            "...                             ...        ...  ...         ...        ...\n",
            "1266794  POINT (-78.48960 49.69822)  49.698216  ...    0.000000   0.000000\n",
            "1266795  POINT (-78.48291 49.69706)  49.697057  ...    0.000000   0.000000\n",
            "1266796  POINT (-78.47622 49.69590)  49.695897  ...    0.000000   0.000000\n",
            "1266797  POINT (-78.46953 49.69474)  49.694736  ...    0.000000   0.000000\n",
            "1266798  POINT (-78.46284 49.69358)  49.693575  ...   99.103333   0.886667\n",
            "\n",
            "[1061034 rows x 13 columns]\n"
          ]
        }
      ]
    },
    {
      "cell_type": "code",
      "source": [
        "# Open selected raster using gdal \n",
        "src_ds = gdal.Open('site_selection/beaudoin_sw.tif')\n",
        "# Get band 1 \n",
        "rb1=src_ds.GetRasterBand(1)\n",
        "transform=src_ds.GetGeoTransform()\n",
        "cols = src_ds.RasterXSize\n",
        "rows = src_ds.RasterYSize\n",
        "\n",
        "# Convert raster to array \n",
        "data = rb1.ReadAsArray(0, 0, cols, rows)\n",
        "df_sw = get_species(df_bf,data,transform,(cols,rows,),src_ds,'Sw')\n",
        "print(df_sw)"
      ],
      "metadata": {
        "colab": {
          "base_uri": "https://localhost:8080/"
        },
        "id": "7TdmlPhzIl5Z",
        "outputId": "4a497c9e-bb28-43cd-83c8-9de9a8aa3f2b"
      },
      "execution_count": 34,
      "outputs": [
        {
          "output_type": "stream",
          "name": "stdout",
          "text": [
            "                           geometry        lat  ...         Bf        Sw\n",
            "0        POINT (-85.90129 45.67832)  45.678324  ...   1.303333  1.870000\n",
            "1        POINT (-85.89502 45.67764)  45.677642  ...   3.403333  0.380000\n",
            "2        POINT (-85.88875 45.67696)  45.676960  ...   4.666667  3.033333\n",
            "3        POINT (-85.88247 45.67628)  45.676278  ...   5.573333  4.336667\n",
            "4        POINT (-85.87620 45.67559)  45.675594  ...  16.143333  3.213333\n",
            "...                             ...        ...  ...        ...       ...\n",
            "1266794  POINT (-78.48960 49.69822)  49.698216  ...   0.000000  0.000000\n",
            "1266795  POINT (-78.48291 49.69706)  49.697057  ...   0.000000  0.000000\n",
            "1266796  POINT (-78.47622 49.69590)  49.695897  ...   0.000000  0.000000\n",
            "1266797  POINT (-78.46953 49.69474)  49.694736  ...   0.000000  0.000000\n",
            "1266798  POINT (-78.46284 49.69358)  49.693575  ...   0.886667  0.780000\n",
            "\n",
            "[1061034 rows x 14 columns]\n"
          ]
        }
      ]
    },
    {
      "cell_type": "code",
      "source": [
        "# Open selected raster using gdal \n",
        "src_ds = gdal.Open('site_selection/beaudoin_sb.tif')\n",
        "# Get band 1 \n",
        "rb1=src_ds.GetRasterBand(1)\n",
        "transform=src_ds.GetGeoTransform()\n",
        "cols = src_ds.RasterXSize\n",
        "rows = src_ds.RasterYSize\n",
        "\n",
        "# Convert raster to array \n",
        "data = rb1.ReadAsArray(0, 0, cols, rows)\n",
        "df_sb = get_species(df_sw,data,transform,(cols,rows,),src_ds,'Sb')\n",
        "print(df_sb)"
      ],
      "metadata": {
        "colab": {
          "base_uri": "https://localhost:8080/"
        },
        "id": "06hZfzFYInSf",
        "outputId": "0c8d31f7-0d64-4f32-9e3c-54b1062598cd"
      },
      "execution_count": 35,
      "outputs": [
        {
          "output_type": "stream",
          "name": "stdout",
          "text": [
            "                           geometry        lat  ...        Sw       Sb\n",
            "0        POINT (-85.90129 45.67832)  45.678324  ...  1.870000     0.00\n",
            "1        POINT (-85.89502 45.67764)  45.677642  ...  0.380000     0.00\n",
            "2        POINT (-85.88875 45.67696)  45.676960  ...  3.033333     1.09\n",
            "3        POINT (-85.88247 45.67628)  45.676278  ...  4.336667     0.00\n",
            "4        POINT (-85.87620 45.67559)  45.675594  ...  3.213333     1.30\n",
            "...                             ...        ...  ...       ...      ...\n",
            "1266794  POINT (-78.48960 49.69822)  49.698216  ...  0.000000 -9999.00\n",
            "1266795  POINT (-78.48291 49.69706)  49.697057  ...  0.000000 -9999.00\n",
            "1266796  POINT (-78.47622 49.69590)  49.695897  ...  0.000000 -9999.00\n",
            "1266797  POINT (-78.46953 49.69474)  49.694736  ...  0.000000 -9999.00\n",
            "1266798  POINT (-78.46284 49.69358)  49.693575  ...  0.780000 -9999.00\n",
            "\n",
            "[1061034 rows x 15 columns]\n"
          ]
        }
      ]
    },
    {
      "cell_type": "code",
      "source": [
        "#Get 7 dataframes for the 7 sites\n",
        "df_sb = df_sb.dropna(how='any')\n",
        "site1 = df_sb[df_sb['ca1_detected'] == 1]\n",
        "print(site1)\n"
      ],
      "metadata": {
        "colab": {
          "base_uri": "https://localhost:8080/"
        },
        "id": "dPNyLyT2wKZA",
        "outputId": "d846c265-91f2-416a-d0eb-9f155cec6261"
      },
      "execution_count": 36,
      "outputs": [
        {
          "output_type": "stream",
          "name": "stdout",
          "text": [
            "                           geometry        lat  ...        Sw         Sb\n",
            "102247   POINT (-82.01557 45.58011)  45.580106  ...  2.350000   1.623333\n",
            "105712   POINT (-82.01164 45.59348)  45.593477  ...  1.520000   1.870000\n",
            "109176   POINT (-82.01390 45.60779)  45.607789  ...  2.720000  21.879999\n",
            "111485   POINT (-82.01748 45.61764)  45.617643  ...  1.406667   0.000000\n",
            "113760   POINT (-82.23204 45.65923)  45.659228  ...  1.520000   0.000000\n",
            "...                             ...        ...  ...       ...        ...\n",
            "1147418  POINT (-81.42405 49.68505)  49.685050  ...  0.456667  48.910000\n",
            "1147419  POINT (-81.41729 49.68408)  49.684081  ...  0.000000  80.239998\n",
            "1148573  POINT (-81.42256 49.68945)  49.689447  ...  0.456667  75.793335\n",
            "1148574  POINT (-81.41580 49.68848)  49.688478  ...  2.550000  74.779999\n",
            "1152119  POINT (-80.87119 49.62270)  49.622698  ...  0.000000  93.176666\n",
            "\n",
            "[18005 rows x 15 columns]\n"
          ]
        }
      ]
    },
    {
      "cell_type": "code",
      "source": [
        "harvest = gpd.read_file('site_selection/harvest_buffer.shp')\n",
        "\n",
        "harvest_df = join_shapefile(df_sb,harvest,'harvest_detected',harvest=True)\n",
        "print(harvest_df[harvest_df['harvest_detected'] >= 1])"
      ],
      "metadata": {
        "colab": {
          "base_uri": "https://localhost:8080/"
        },
        "id": "HyCpCRTYWJiZ",
        "outputId": "8caa2c4a-6e60-4ff7-dca5-599bac6646ce"
      },
      "execution_count": 52,
      "outputs": [
        {
          "output_type": "stream",
          "name": "stdout",
          "text": [
            "                           geometry        lat  ...        Sb  harvest_detected\n",
            "279810   POINT (-83.75043 46.53814)  46.538141  ...  3.333333               1.0\n",
            "279811   POINT (-83.74408 46.53732)  46.537318  ...  0.000000               1.0\n",
            "280965   POINT (-83.74926 46.54261)  46.542608  ...  0.000000               1.0\n",
            "280966   POINT (-83.74290 46.54178)  46.541785  ...  0.000000               1.0\n",
            "282151   POINT (-83.55121 46.52135)  46.521352  ...  0.000000               1.0\n",
            "...                             ...        ...  ...       ...               ...\n",
            "1201535  POINT (-82.49888 50.04871)  50.048713  ...  0.000000               1.0\n",
            "1202689  POINT (-82.50433 50.05402)  50.054018  ...  0.000000               1.0\n",
            "1202690  POINT (-82.49749 50.05312)  50.053121  ...  0.000000               1.0\n",
            "1203844  POINT (-82.50294 50.05843)  50.058426  ...  0.000000               1.0\n",
            "1203845  POINT (-82.49609 50.05753)  50.057528  ...  0.000000               1.0\n",
            "\n",
            "[22384 rows x 16 columns]\n"
          ]
        }
      ]
    },
    {
      "cell_type": "code",
      "source": [
        "road = gpd.read_file('site_selection/road_buffer_1km.shp')\n",
        "\n",
        "road_df = join_shapefile(harvest_df,road,'road_detected',road=True)\n",
        "print(road_df[road_df['road_detected'] == 1])"
      ],
      "metadata": {
        "colab": {
          "base_uri": "https://localhost:8080/"
        },
        "id": "suj2uFUe16S0",
        "outputId": "7b8b10e2-7a09-4895-edca-dbbaca8b29b4"
      },
      "execution_count": 63,
      "outputs": [
        {
          "output_type": "stream",
          "name": "stdout",
          "text": [
            "                           geometry        lat  ...  harvest_detected  road_detected\n",
            "7106     POINT (-84.79375 45.57881)  45.578811  ...               0.0              1\n",
            "7107     POINT (-84.78751 45.57805)  45.578055  ...               0.0              1\n",
            "7108     POINT (-84.78126 45.57730)  45.577298  ...               0.0              1\n",
            "7109     POINT (-84.77502 45.57654)  45.576541  ...               0.0              1\n",
            "8261     POINT (-84.79270 45.58330)  45.583303  ...               0.0              1\n",
            "...                             ...        ...  ...               ...            ...\n",
            "1204177  POINT (-80.24066 49.73488)  49.734882  ...               0.0              1\n",
            "1204178  POINT (-80.23392 49.73384)  49.733836  ...               0.0              1\n",
            "1205330  POINT (-80.25253 49.74135)  49.741351  ...               0.0              1\n",
            "1205331  POINT (-80.24579 49.74031)  49.740306  ...               0.0              1\n",
            "1205332  POINT (-80.23905 49.73926)  49.739261  ...               0.0              1\n",
            "\n",
            "[64931 rows x 17 columns]\n"
          ]
        }
      ]
    },
    {
      "cell_type": "code",
      "source": [
        "def get_dist_driving(G, gdf1,gdf2): \n",
        "    site_options = {} \n",
        "    for x,y in zip(gdf1['lon'],gdf1['lat']):\n",
        "        df = pd.DataFrame() \n",
        "        dist_list = [] \n",
        "        lon_list = [] \n",
        "        lat_list = [] \n",
        "        for x2,y2 in zip(gdf2['lon'],gdf2['lat']): \n",
        "            if (x,y,) != (x2,y2): \n",
        "\n",
        "                # get the nearest network node to each point\n",
        "                orig_node = ox.get_nearest_node(G, (y,x))\n",
        "                dest_node = ox.get_nearest_node(G, (y2,x2))\n",
        "\n",
        "                # how long is our route in meters?\n",
        "                d = nx.shortest_path_length(G, orig_node, dest_node, weight='length')\n",
        "                dist_list.append(d)\n",
        "                lon_list.append(x2)\n",
        "                lat_list.append(y2)\n",
        "\n",
        "        df['dist'] = dist_list\n",
        "        df['lon'] = lon_list\n",
        "        df['lat'] = lat_list\n",
        "        site_options[(x,y,)] = df\n",
        "\n",
        "import math \n",
        "def get_dist_haversine(gdf1,gdf2): \n",
        "    site_options = {} \n",
        "    for x,y in zip(gdf1['lon'],gdf1['lat']):\n",
        "        df = pd.DataFrame() \n",
        "        dist_list = [] \n",
        "        lon_list = [] \n",
        "        lat_list = [] \n",
        "        for x2,y2 in zip(gdf2['lon'],gdf2['lat']): \n",
        "            if (x,y,) != (x2,y2): \n",
        "\n",
        "                lon1, lat1, lon2, lat2 = map(math.radians, [x, y, x2, y2])\n",
        "\n",
        "                # haversine formula \n",
        "                dlon = lon2 - lon1 \n",
        "                dlat = lat2 - lat1 \n",
        "                a = math.sin(dlat/2)**2 + math.cos(lat1) * math.cos(lat2) * math.sin(dlon/2)**2\n",
        "                c = 2 * math.asin(math.sqrt(a)) \n",
        "                r = 6371 # Radius of earth in kilometers. Use 3956 for miles. Determines return value units.\n",
        "                dist = c * r\n",
        "                dist_list.append(dist)\n",
        "                lon_list.append(x2)\n",
        "                lat_list.append(y2)\n",
        "\n",
        "        df['dist'] = dist_list\n",
        "        df['lon'] = lon_list\n",
        "        df['lat'] = lat_list\n",
        "        site_options[(x,y,)] = df\n",
        "\n",
        "    return site_options"
      ],
      "metadata": {
        "id": "9YB4IBaX0nMZ"
      },
      "execution_count": 13,
      "outputs": []
    },
    {
      "cell_type": "code",
      "source": [
        "df_all = road_df.dropna(how='any')\n",
        "df_all = df_all[df_all['fire_detected'] == 0]\n",
        "df_all = df_all[df_all['harvest_detected'] == 0]\n",
        "#df_all = df_all[df_all['road_detected'] == 1]\n",
        "df_all['combo_species'] = df_all['Bf'] + df_all['Sw'] +df_all['Sb']\n",
        "df_all = df_all[df_all['combo_species'] >= 30]\n",
        "df_all = df_all[df_all['age'] >= 30]\n",
        "\n",
        "print(df_all)\n",
        "\n",
        "site1 = df_all[df_all['ca1_detected'] == 1]\n",
        "site1 = site1[site1['ca2_detected'] == 0]\n",
        "site1 = site1[site1['ca3_detected'] == 0]\n",
        "site1 = site1[site1['ca4_detected'] == 0]\n",
        "site1 = site1[site1['ca5_detected'] == 0]\n",
        "site1 = site1[site1['ca6_detected'] == 0]\n",
        "site1 = site1[site1['ca7_detected'] == 0]\n",
        "\n",
        "print(site1)\n",
        "\n",
        "site2 =  df_all[df_all['ca2_detected'] == 1]\n",
        "site2 = site2[site2['ca3_detected'] == 0]\n",
        "site2 = site2[site2['ca4_detected'] == 0]\n",
        "site2 = site2[site2['ca5_detected'] == 0]\n",
        "site2 = site2[site2['ca6_detected'] == 0]\n",
        "site2 = site2[site2['ca7_detected'] == 0]\n",
        "print(site2)\n",
        "\n",
        "site3 =  df_all[df_all['ca3_detected'] == 1]\n",
        "site3 = site3[site3['ca4_detected'] == 0]\n",
        "site3 = site3[site3['ca5_detected'] == 0]\n",
        "site3 = site3[site3['ca6_detected'] == 0]\n",
        "site3 = site3[site3['ca7_detected'] == 0]\n",
        "print(site3)\n",
        "\n",
        "site4 =  df_all[df_all['ca4_detected'] == 1]\n",
        "site4 = site4[site4['ca5_detected'] == 0]\n",
        "site4 = site4[site4['ca6_detected'] == 0]\n",
        "site4 = site4[site4['ca7_detected'] == 0]\n",
        "\n",
        "print(site4)\n",
        "\n",
        "site5 =  df_all[df_all['ca5_detected'] == 1]\n",
        "site5 = site5[site5['ca6_detected'] == 0]\n",
        "site5 = site5[site5['ca7_detected'] == 0]\n",
        "print(site5)\n",
        "\n",
        "site6 =  df_all[df_all['ca6_detected'] == 1]\n",
        "site6 = site6[site6['ca7_detected'] == 0]\n",
        "print(site6)\n",
        "\n",
        "site7 =  df_all[df_all['ca7_detected'] == 1]\n",
        "print(site7)\n"
      ],
      "metadata": {
        "colab": {
          "base_uri": "https://localhost:8080/"
        },
        "id": "oO07Y0kd_tL4",
        "outputId": "e6f746c0-9c05-484f-c94a-2cc57727b057"
      },
      "execution_count": 65,
      "outputs": [
        {
          "output_type": "stream",
          "name": "stdout",
          "text": [
            "                           geometry        lat  ...  road_detected  combo_species\n",
            "6        POINT (-85.86366 45.67423)  45.674227  ...              0      46.486668\n",
            "7        POINT (-85.85738 45.67354)  45.673543  ...              0      49.396664\n",
            "21       POINT (-85.76959 45.66392)  45.663919  ...              0      47.470001\n",
            "31       POINT (-85.70691 45.65699)  45.656994  ...              0      31.066666\n",
            "32       POINT (-85.70064 45.65630)  45.656299  ...              0      40.503334\n",
            "...                             ...        ...  ...            ...            ...\n",
            "1266671  POINT (-79.31538 49.83752)  49.837520  ...              0      47.779999\n",
            "1266691  POINT (-79.18075 49.81532)  49.815321  ...              0      37.880001\n",
            "1266719  POINT (-78.99249 49.78395)  49.783947  ...              0      35.360001\n",
            "1266724  POINT (-78.95891 49.77831)  49.778308  ...              0      40.040001\n",
            "1266748  POINT (-78.79781 49.75109)  49.751090  ...              0      30.333334\n",
            "\n",
            "[430737 rows x 18 columns]\n",
            "                           geometry        lat  ...  road_detected  combo_species\n",
            "109176   POINT (-82.01390 45.60779)  45.607789  ...              0      36.213333\n",
            "128821   POINT (-81.92952 45.67410)  45.674101  ...              1      36.926666\n",
            "222022   POINT (-84.04924 46.34555)  46.345550  ...              1      35.186665\n",
            "222023   POINT (-84.04291 46.34475)  46.344746  ...              1      42.413330\n",
            "223223   POINT (-83.75702 46.31260)  46.312603  ...              0      30.236668\n",
            "...                             ...        ...  ...            ...            ...\n",
            "1147418  POINT (-81.42405 49.68505)  49.685050  ...              0      70.216667\n",
            "1147419  POINT (-81.41729 49.68408)  49.684081  ...              0      80.239998\n",
            "1148573  POINT (-81.42256 49.68945)  49.689447  ...              0      97.099998\n",
            "1148574  POINT (-81.41580 49.68848)  49.688478  ...              0      77.330002\n",
            "1152119  POINT (-80.87119 49.62270)  49.622698  ...              0      93.176666\n",
            "\n",
            "[9093 rows x 18 columns]\n",
            "                           geometry        lat  ...  road_detected  combo_species\n",
            "230166   POINT (-83.66779 46.32868)  46.328679  ...              0      30.619999\n",
            "283609   POINT (-81.63741 46.25303)  46.253027  ...              0      40.163334\n",
            "320563   POINT (-81.63141 46.40094)  46.400940  ...              0      50.903336\n",
            "321721   POINT (-81.61116 46.40249)  46.402486  ...              0      33.696667\n",
            "377560   POINT (-79.04449 46.19574)  46.195740  ...              0      32.763332\n",
            "...                             ...        ...  ...            ...            ...\n",
            "1102375  POINT (-81.46853 49.51159)  49.511587  ...              0      94.953339\n",
            "1103530  POINT (-81.46705 49.51599)  49.515986  ...              0      91.550003\n",
            "1104684  POINT (-81.47231 49.52135)  49.521351  ...              0      43.279999\n",
            "1109303  POINT (-81.47312 49.53991)  49.539914  ...              0      88.750000\n",
            "1111615  POINT (-81.45667 49.54678)  49.546780  ...              0      80.406662\n",
            "\n",
            "[2976 rows x 18 columns]\n",
            "                           geometry        lat  ...  road_detected  combo_species\n",
            "400589   POINT (-79.45482 46.36343)  46.363429  ...              1      49.106667\n",
            "401730   POINT (-79.54068 46.38330)  46.383298  ...              0      31.570000\n",
            "402900   POINT (-79.44544 46.37114)  46.371137  ...              0      33.273335\n",
            "407527   POINT (-79.39544 46.38100)  46.380998  ...              1      37.463333\n",
            "449112   POINT (-79.30719 46.53399)  46.533990  ...              0      33.139999\n",
            "...                             ...        ...  ...            ...            ...\n",
            "1068914  POINT (-81.28316 49.35095)  49.350953  ...              0      49.503334\n",
            "1071224  POINT (-81.28017 49.35975)  49.359750  ...              0      41.976669\n",
            "1074685  POINT (-81.30252 49.37686)  49.376858  ...              0      82.976669\n",
            "1074694  POINT (-81.24213 49.36804)  49.368045  ...              0      72.346664\n",
            "1078150  POINT (-81.29804 49.39005)  49.390054  ...              0      83.946671\n",
            "\n",
            "[446 rows x 18 columns]\n",
            "                           geometry        lat  ...  road_detected  combo_species\n",
            "415625   POINT (-79.30321 46.39735)  46.397353  ...              0      38.546669\n",
            "782351   POINT (-82.45285 48.37237)  48.372366  ...              0      39.090000\n",
            "818186   POINT (-82.21292 48.48216)  48.482158  ...              0      43.279999\n",
            "824021   POINT (-81.81052 48.44827)  48.448268  ...              0      69.676666\n",
            "828518   POINT (-82.61704 48.57908)  48.579082  ...              0      30.730000\n",
            "...                             ...        ...  ...            ...            ...\n",
            "1041202  POINT (-81.26541 49.23754)  49.237538  ...              0      65.133331\n",
            "1042356  POINT (-81.27061 49.24292)  49.242918  ...              0      94.823334\n",
            "1043508  POINT (-81.28919 49.25026)  49.250255  ...              0      51.183331\n",
            "1043509  POINT (-81.28250 49.24928)  49.249276  ...              0      66.563332\n",
            "1053857  POINT (-81.58417 49.33443)  49.334431  ...              1      63.216667\n",
            "\n",
            "[268 rows x 18 columns]\n",
            "                          geometry        lat  ...  road_detected  combo_species\n",
            "635727  POINT (-82.22536 47.75422)  47.754221  ...              0      53.889999\n",
            "635728  POINT (-82.21886 47.75330)  47.753300  ...              0      55.400002\n",
            "636882  POINT (-82.22401 47.75865)  47.758653  ...              0      49.036667\n",
            "830824  POINT (-82.64085 48.59150)  48.591504  ...              0      49.426666\n",
            "830906  POINT (-82.09876 48.51694)  48.516937  ...              0      61.916664\n",
            "832061  POINT (-82.09737 48.52136)  48.521357  ...              0      64.250000\n",
            "838989  POINT (-82.10225 48.54973)  48.549730  ...              0      30.693335\n",
            "838990  POINT (-82.09565 48.54880)  48.548803  ...              0      45.076668\n",
            "840120  POINT (-82.25947 48.57627)  48.576273  ...              0      76.580002\n",
            "840144  POINT (-82.10086 48.55415)  48.554150  ...              0      33.470001\n",
            "840145  POINT (-82.09426 48.55322)  48.553223  ...              0      47.759998\n",
            "843609  POINT (-82.09670 48.56741)  48.567409  ...              0      72.333336\n",
            "843611  POINT (-82.08349 48.56555)  48.565553  ...              0      65.006668\n",
            "844687  POINT (-82.60491 48.64194)  48.641938  ...              0      39.933334\n",
            "844744  POINT (-82.22752 48.59029)  48.590288  ...              0      76.100006\n",
            "845842  POINT (-82.60357 48.64636)  48.646363  ...              0      39.799999\n",
            "845921  POINT (-82.08071 48.57439)  48.574392  ...              0      30.433331\n",
            "847009  POINT (-82.52269 48.64003)  48.640031  ...              0      50.579998\n",
            "848164  POINT (-82.52135 48.64446)  48.644456  ...              0      52.483337\n",
            "850477  POINT (-82.49876 48.65060)  48.650604  ...              0      60.473335\n",
            "852825  POINT (-82.24435 48.62491)  48.624906  ...              0      63.793335\n",
            "856361  POINT (-81.77086 48.57191)  48.571912  ...              0      81.446671\n",
            "857516  POINT (-81.76944 48.57633)  48.576327  ...              0      85.663330\n",
            "862023  POINT (-82.51177 48.69844)  48.698442  ...              0      48.616665\n",
            "863180  POINT (-82.49715 48.70106)  48.701065  ...              0      38.316666\n",
            "863183  POINT (-82.47725 48.69836)  48.698361  ...              0     113.520004\n",
            "864332  POINT (-82.51571 48.70819)  48.708188  ...              0      62.123333\n",
            "864338  POINT (-82.47589 48.70278)  48.702784  ...              0      80.040001\n",
            "866641  POINT (-82.51964 48.71793)  48.717934  ...              0      51.216667\n",
            "866642  POINT (-82.51300 48.71703)  48.717035  ...              0      72.996666\n",
            "866647  POINT (-82.47982 48.71253)  48.712532  ...              0      52.290001\n",
            "872421  POINT (-82.47968 48.73555)  48.735547  ...              0      85.203331\n",
            "875898  POINT (-82.39593 48.73796)  48.737960  ...              0      49.139999\n",
            "877053  POINT (-82.39457 48.74238)  48.742382  ...              0      38.840000\n",
            "877055  POINT (-82.38129 48.74057)  48.740566  ...              0      37.919998\n",
            "877060  POINT (-82.34810 48.73602)  48.736020  ...              0      51.823330\n",
            "878214  POINT (-82.35337 48.74135)  48.741351  ...              0      53.033333\n",
            "878220  POINT (-82.31354 48.73588)  48.735884  ...              0      46.849998\n",
            "878221  POINT (-82.30691 48.73497)  48.734971  ...              0      56.079998\n",
            "879362  POINT (-82.39848 48.75213)  48.752132  ...              0      33.746666\n",
            "880525  POINT (-82.34399 48.74928)  48.749283  ...              0      52.480000\n",
            "977628  POINT (-81.67348 49.04271)  49.042711  ...              0      76.523331\n",
            "981096  POINT (-81.64913 49.05307)  49.053070  ...              0      51.466667\n",
            "985707  POINT (-81.70340 49.07928)  49.079283  ...              0      56.536667\n",
            "990328  POINT (-81.69095 49.09596)  49.095962  ...              0      35.983334\n",
            "991481  POINT (-81.70286 49.10227)  49.102273  ...              0      56.456669\n",
            "991482  POINT (-81.69618 49.10132)  49.101321  ...              0      38.103333\n",
            "992636  POINT (-81.70141 49.10668)  49.106681  ...              0      44.116669\n",
            "992637  POINT (-81.69473 49.10573)  49.105729  ...              0      55.496666\n",
            "992638  POINT (-81.68806 49.10478)  49.104776  ...              0      43.436665\n",
            "997255  POINT (-81.70231 49.12526)  49.125262  ...              0      72.826668\n",
            "\n",
            "[51 rows x 18 columns]\n",
            "                          geometry        lat  ...  road_detected  combo_species\n",
            "811239  POINT (-82.33328 48.47119)  48.471191  ...              0      47.489998\n",
            "816972  POINT (-82.60395 48.53124)  48.531243  ...              0      33.306667\n",
            "840124  POINT (-82.23303 48.57260)  48.572603  ...              0      64.269997\n",
            "841280  POINT (-82.22504 48.57611)  48.576106  ...              0      61.160000\n",
            "843588  POINT (-82.23551 48.58679)  48.586785  ...              0      58.126667\n",
            "844743  POINT (-82.23414 48.59121)  48.591206  ...              0      44.083332\n",
            "845899  POINT (-82.22615 48.59471)  48.594709  ...              0      75.379997\n",
            "847053  POINT (-82.23138 48.60005)  48.600048  ...              0      81.389999\n",
            "857410  POINT (-82.47076 48.67444)  48.674441  ...              0      50.926666\n",
            "858585  POINT (-82.33683 48.66073)  48.660727  ...              0      64.796669\n",
            "879365  POINT (-82.37856 48.74941)  48.749409  ...              0      55.860001\n",
            "880520  POINT (-82.37719 48.75383)  48.753830  ...              0      35.330002\n",
            "\n",
            "[12 rows x 18 columns]\n",
            "                          geometry        lat  ...  road_detected  combo_species\n",
            "818127  POINT (-82.60261 48.53567)  48.535669  ...              0      30.220001\n",
            "847011  POINT (-82.50944 48.63823)  48.638232  ...              0      53.910004\n",
            "847017  POINT (-82.46969 48.63282)  48.632825  ...              0      30.503334\n",
            "851632  POINT (-82.49741 48.65503)  48.655028  ...              0      47.266670\n",
            "\n",
            "[4 rows x 18 columns]\n"
          ]
        }
      ]
    },
    {
      "cell_type": "code",
      "source": [
        "dd1 = get_dist_haversine(site7,site1) #There are the least site 7's so we optimize distance to them\n",
        "dd2 = get_dist_haversine(site7,site2)\n",
        "dd3 = get_dist_haversine(site7,site3)\n",
        "dd4 = get_dist_haversine(site7,site4)\n",
        "dd5 = get_dist_haversine(site7,site5)\n",
        "dd6 = get_dist_haversine(site7,site6)"
      ],
      "metadata": {
        "id": "qrtxwv3rWmeb"
      },
      "execution_count": 54,
      "outputs": []
    },
    {
      "cell_type": "code",
      "source": [
        "\n",
        "def optimize_for_site(site,dict1,dict2,dict3,dict4,dict5,dict6):\n",
        "\n",
        "    information = pd.DataFrame() \n",
        "\n",
        "    pot_site1 = dict1[site].reset_index(drop=True)\n",
        "    pot_site2 = dict2[site].reset_index(drop=True)\n",
        "    pot_site3 = dict3[site].reset_index(drop=True)\n",
        "    pot_site4 = dict4[site].reset_index(drop=True)\n",
        "    pot_site5 = dict5[site].reset_index(drop=True)\n",
        "    pot_site6 = dict6[site].reset_index(drop=True)\n",
        "\n",
        "    solver = pywraplp.Solver.CreateSolver('SCIP')\n",
        "\n",
        "    var_list = []\n",
        "    dist_list = [] \n",
        "    lon_list = [] \n",
        "    lat_list = [] \n",
        "    var_list_s1 = [] \n",
        "    var_list_s2 = []\n",
        "    var_list_s3 = []\n",
        "    var_list_s4 = []\n",
        "    var_list_s5 = []\n",
        "    var_list_s6 = []\n",
        "\n",
        "    count = 0 \n",
        "    for list_ in [pot_site1,pot_site2,pot_site3,\\\n",
        "                  pot_site4,pot_site5,pot_site6]:\n",
        "        count+=1 \n",
        "        count2 = 0 #count 2 is the site index \n",
        "        for inst in list_.iterrows(): \n",
        "            inst = list(inst)[1]\n",
        "            var_list.append('x'+str(count)+'_'+str(count2))\n",
        "            dist_list.append(inst['dist'])\n",
        "            lon_list.append(inst['lon'])\n",
        "            lat_list.append(inst['lat'])\n",
        "            if count == 1: \n",
        "                var_list_s1.append('x'+str(count)+'_'+str(count2))\n",
        "            if count == 2: \n",
        "                var_list_s2.append('x'+str(count)+'_'+str(count2))\n",
        "            if count == 3: \n",
        "                var_list_s3.append('x'+str(count)+'_'+str(count2))\n",
        "            if count == 4: \n",
        "                var_list_s4.append('x'+str(count)+'_'+str(count2))           \n",
        "            if count == 5: \n",
        "                var_list_s5.append('x'+str(count)+'_'+str(count2))\n",
        "            if count == 6: \n",
        "                var_list_s6.append('x'+str(count)+'_'+str(count2))\n",
        "            count2+=1 \n",
        "\n",
        "    var_collect = {}\n",
        "\n",
        "    for i in range(0, len(var_list)): \n",
        "        # solver.IntVar(0.0, 1, var_list[i]) --> tell computer that the variable can\n",
        "        # only be 1 or 0. \n",
        "        var_collect[var_list[i]] = solver.IntVar(0.0, 1, var_list[i]) \n",
        "                \n",
        "    information['variable'] = var_list\n",
        "    information['distance'] = dist_list \n",
        "    information['lat'] = lat_list\n",
        "    information['lon'] = lon_list\n",
        "\n",
        "    locals().update(var_collect)\n",
        "    globals().update(var_collect)\n",
        "    vars = [eval(i) for i in var_list]\n",
        "    vars1 = [eval(i) for i in var_list_s1]\n",
        "    vars2 = [eval(i) for i in var_list_s2]\n",
        "    vars3 = [eval(i) for i in var_list_s3]\n",
        "    vars4 = [eval(i) for i in var_list_s4]\n",
        "    vars5 = [eval(i) for i in var_list_s5]\n",
        "    vars6 = [eval(i) for i in var_list_s6]\n",
        "\n",
        "    solver.Add(sum(vars1) == 1)\n",
        "    solver.Add(sum(vars2) == 1)\n",
        "    solver.Add(sum(vars3) == 1)\n",
        "    solver.Add(sum(vars4) == 1)\n",
        "    solver.Add(sum(vars5) == 1)\n",
        "    solver.Add(sum(vars6) == 1)\n",
        "\n",
        "    #print('Number of constraints =', solver.NumConstraints()) \n",
        "    #print('Number of variables =', solver.NumVariables())\n",
        "\n",
        "    #Tell computer that each component of the objective function is dist * variable\n",
        "    obj_collect = [i*j for i, j in zip(vars,dist_list)]\n",
        "    #Tell the computer to maximize the sum of these volume*variable pairs \n",
        "    solver.Minimize(sum(obj_collect))\n",
        "\n",
        "    #Solve \n",
        "    status = solver.Solve()\n",
        "\n",
        "    #Get information from solver \n",
        "    decision = [] \n",
        "    if status == pywraplp.Solver.OPTIMAL:\n",
        "        \n",
        "        #print('Objective value =', solver.Objective().Value())\n",
        "        for var in vars: \n",
        "          #Append to decision list the solution for the specific variable. \n",
        "          decision.append(abs(var.solution_value()))\n",
        "    else:\n",
        "        print('The problem does not have an optimal solution.')\n",
        "\n",
        "    if len(decision) > 0: \n",
        "      #Append a row to the original table IF there is an optimal solution\n",
        "      information['visit'] = decision \n",
        "\n",
        "      #Here's our table. 'cut' tells us whether to harvest or not. \n",
        "      #print(information[information['visit'] == 1])\n",
        "    information = information[information['visit'] == 1]\n",
        "    return float(solver.Objective().Value()),information\n"
      ],
      "metadata": {
        "id": "lwKXWGNQXnIw"
      },
      "execution_count": 55,
      "outputs": []
    },
    {
      "cell_type": "code",
      "source": [
        "op_list = [] \n",
        "mdist_list = [] \n",
        "site7_loc = [] \n",
        "for site in site7.iterrows(): \n",
        "    site = list(site)[1]\n",
        "    loc = (site['lon'],site['lat'],)\n",
        "    obj_func, info = optimize_for_site(loc,dd1,dd2,dd3,dd4,dd5,dd6)\n",
        "    op_list.append(info)\n",
        "    mdist_list.append(obj_func)\n",
        "    site7_loc.append(loc)\n",
        "\n",
        "#get min\n",
        "\n",
        "index_min = mdist_list.index(min(mdist_list))\n",
        "\n",
        "print('Selected Sites')\n",
        "print(op_list[index_min])\n",
        "print('Selected Site 7 Location')\n",
        "print(site7_loc[index_min])\n",
        "print('Minimum Haversine Dist Possible Bt Sites (km)')\n",
        "print(mdist_list[index_min])\n",
        "\n",
        "df_sites = op_list[index_min]"
      ],
      "metadata": {
        "colab": {
          "base_uri": "https://localhost:8080/"
        },
        "id": "BnNDwS2Zg8jp",
        "outputId": "bc9b428d-bb72-4f67-ef26-83f448af81f8"
      },
      "execution_count": 90,
      "outputs": [
        {
          "output_type": "stream",
          "name": "stdout",
          "text": [
            "Selected Sites\n",
            "      variable  distance        lat        lon  visit\n",
            "3175   x1_3175  0.705016  48.651504 -82.505391    1.0\n",
            "9711    x2_618  0.497070  48.654127 -82.490783    1.0\n",
            "12185   x3_116  1.410031  48.647980 -82.513369    1.0\n",
            "12535    x4_20  3.512921  48.624059 -82.506866    1.0\n",
            "12802    x5_19  0.501829  48.650604 -82.498763    1.0\n",
            "12842     x6_8  2.914012  48.674441 -82.470757    1.0\n",
            "Selected Site 7 Location\n",
            "(-82.49741145629419, 48.65502796480138)\n",
            "Minimum Haversine Dist Possible Bt Sites (km)\n",
            "9.540880545417\n"
          ]
        }
      ]
    },
    {
      "cell_type": "code",
      "source": [
        "df_sites = df_sites.append(pd.DataFrame([['x0', 0,site7_loc[index_min][1],\\\n",
        "                               site7_loc[index_min][0],1.0]],columns=df_sites.columns))\n",
        "\n",
        "\n",
        "df_sites['years_act'] = [1,2,3,4,5,6,7]\n",
        "\n",
        "print(df_sites)\n",
        "gdf_sites = gpd.GeoDataFrame(df_sites,geometry=\\\n",
        "                             gpd.points_from_xy(df_sites['lon'],df_sites['lat']))\n",
        "gdf_sites.to_file(driver = 'ESRI Shapefile',filename='op_sites2')\n",
        "gdf_sites.to_file(driver='GeoJSON',filename='geojson_op_sites2')"
      ],
      "metadata": {
        "colab": {
          "base_uri": "https://localhost:8080/"
        },
        "id": "JLbNSxjZAwOD",
        "outputId": "b3427573-266d-4346-8911-ba2118a23118"
      },
      "execution_count": 91,
      "outputs": [
        {
          "output_type": "stream",
          "name": "stdout",
          "text": [
            "      variable  distance        lat        lon  visit  years_act\n",
            "3175   x1_3175  0.705016  48.651504 -82.505391    1.0          1\n",
            "9711    x2_618  0.497070  48.654127 -82.490783    1.0          2\n",
            "12185   x3_116  1.410031  48.647980 -82.513369    1.0          3\n",
            "12535    x4_20  3.512921  48.624059 -82.506866    1.0          4\n",
            "12802    x5_19  0.501829  48.650604 -82.498763    1.0          5\n",
            "12842     x6_8  2.914012  48.674441 -82.470757    1.0          6\n",
            "0           x0  0.000000  48.655028 -82.497411    1.0          7\n"
          ]
        }
      ]
    }
  ]
}